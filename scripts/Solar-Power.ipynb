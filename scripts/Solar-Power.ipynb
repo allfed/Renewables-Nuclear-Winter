{
 "cells": [
  {
   "cell_type": "markdown",
   "metadata": {},
   "source": [
    "# Solar power in a nuclear winter"
   ]
  },
  {
   "cell_type": "code",
   "execution_count": 11,
   "metadata": {},
   "outputs": [
    {
     "name": "stdout",
     "output_type": "stream",
     "text": [
      "The autoreload extension is already loaded. To reload it, use:\n",
      "  %reload_ext autoreload\n"
     ]
    }
   ],
   "source": [
    "%load_ext autoreload\n",
    "%autoreload 2\n",
    "\n",
    "import sys\n",
    "sys.path.append(\"../src\")\n",
    "from analysis import GEM"
   ]
  },
  {
   "cell_type": "markdown",
   "metadata": {},
   "source": [
    "First we load the Global Energy Monitor data."
   ]
  },
  {
   "cell_type": "code",
   "execution_count": 33,
   "metadata": {},
   "outputs": [],
   "source": [
    "gem = GEM()"
   ]
  },
  {
   "cell_type": "markdown",
   "metadata": {},
   "source": [
    "We make a quick check to make sure the data makes sense. I am comparing the total *operating* solar capacity to reference values below. It all looks good."
   ]
  },
  {
   "cell_type": "code",
   "execution_count": 41,
   "metadata": {},
   "outputs": [
    {
     "data": {
      "text/plain": [
       "Country\n",
       "China            294195.6\n",
       "United States     79363.5\n",
       "Germany           63128.5\n",
       "India             53114.3\n",
       "Italy             20345.0\n",
       "Name: Capacity (MW), dtype: float64"
      ]
     },
     "execution_count": 41,
     "metadata": {},
     "output_type": "execute_result"
    }
   ],
   "source": [
    "gem.sum_operating_solar_farms_per_country()"
   ]
  },
  {
   "cell_type": "markdown",
   "metadata": {},
   "source": [
    "* China 2023, total: 392 GW (https://en.wikipedia.org/wiki/Solar_power_in_China)\n",
    "* US 2023, utility scale: 73.5 GW (https://www.eia.gov/todayinenergy/detail.php?id=55719)\n",
    "* Germany 2022, total: 81.8 GW (https://en.wikipedia.org/wiki/Solar_power_in_Germany)\n",
    "* India 2023, total: 66.8 GW (https://en.wikipedia.org/wiki/Solar_power_in_India)\n",
    "* Italy 2022, total: 22.6 GW (https://en.wikipedia.org/wiki/Solar_power_in_Italy)"
   ]
  },
  {
   "cell_type": "code",
   "execution_count": null,
   "metadata": {},
   "outputs": [],
   "source": []
  }
 ],
 "metadata": {
  "kernelspec": {
   "display_name": "WACCM4-Nuclear-Winter-Analysis",
   "language": "python",
   "name": "waccm4-nuclear-winter-analysis"
  },
  "language_info": {
   "codemirror_mode": {
    "name": "ipython",
    "version": 3
   },
   "file_extension": ".py",
   "mimetype": "text/x-python",
   "name": "python",
   "nbconvert_exporter": "python",
   "pygments_lexer": "ipython3",
   "version": "3.9.18"
  }
 },
 "nbformat": 4,
 "nbformat_minor": 2
}
